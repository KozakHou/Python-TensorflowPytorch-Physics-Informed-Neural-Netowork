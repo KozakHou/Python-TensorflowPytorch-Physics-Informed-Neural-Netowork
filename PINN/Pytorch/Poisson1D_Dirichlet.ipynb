{
 "cells": [
  {
   "cell_type": "markdown",
   "id": "628b241b",
   "metadata": {},
   "source": [
    "# Libraries"
   ]
  },
  {
   "cell_type": "code",
   "execution_count": 1,
   "id": "51d8c090",
   "metadata": {},
   "outputs": [
    {
     "name": "stdout",
     "output_type": "stream",
     "text": [
      "cuda\n"
     ]
    }
   ],
   "source": [
    "import torch\n",
    "import torch.autograd as autograd         # computation graph\n",
    "from torch import Tensor                  # tensor node in the computation graph\n",
    "import torch.nn as nn                     # neural networks\n",
    "import torch.optim as optim               # optimizers e.g. gradient descent, ADAM, etc.\n",
    "\n",
    "import matplotlib.pyplot as plt\n",
    "import matplotlib.gridspec as gridspec\n",
    "from mpl_toolkits.axes_grid1 import make_axes_locatable\n",
    "from mpl_toolkits.mplot3d import Axes3D\n",
    "import matplotlib.ticker\n",
    "from sklearn.model_selection import train_test_split\n",
    "\n",
    "import numpy as np\n",
    "import time\n",
    "from pyDOE import lhs         #Latin Hypercube Sampling\n",
    "import scipy.io\n",
    "\n",
    "#Set default dtype to float32\n",
    "torch.set_default_dtype(torch.float)\n",
    "\n",
    "#PyTorch random number generator\n",
    "torch.manual_seed(1234)\n",
    "\n",
    "# Random number generators in other libraries\n",
    "np.random.seed(1234)\n",
    "\n",
    "# Device configuration\n",
    "device = torch.device('cuda' if torch.cuda.is_available() else 'cpu')\n",
    "\n",
    "print(device)\n",
    "\n",
    "if device == 'cuda': \n",
    "    print(torch.cuda.get_device_name())"
   ]
  },
  {
   "cell_type": "markdown",
   "id": "79de6757",
   "metadata": {},
   "source": [
    "# Tunning Parameters"
   ]
  },
  {
   "cell_type": "code",
   "execution_count": 2,
   "id": "7876a33d",
   "metadata": {},
   "outputs": [],
   "source": [
    "steps=5000\n",
    "lr=1e-3\n",
    "layers = np.array([1,50,50,20,50,50,1]) #5 hidden layers\n",
    "# To generate new data:\n",
    "min=-1\n",
    "max=1\n",
    "total_points=500\n",
    "#Nu: Number of training points (2 as we onlt have 2 boundaries), # Nf: Number of collocation points (Evaluate PDE)\n",
    "Nu=2\n",
    "Nf=250"
   ]
  },
  {
   "cell_type": "markdown",
   "id": "f039bc2e",
   "metadata": {},
   "source": [
    "# Problem Setup\n",
    "\n",
    "**Laplace Operator($\\Delta$)**\n",
    "\n",
    "$$\\Delta u=u_{xx}+u_{yy} = \\frac{\\partial^2 u}{\\partial x^2}+\\frac{\\partial^2 u}{\\partial y^2}$$\n",
    "\n",
    "**Harmonic Functions**\n",
    "\n",
    "$$\\Delta u =0$$\n",
    "\n",
    "They are smooth\n",
    "\n",
    "You need boundary conditions: you need the rate or the value.\n",
    "\n",
    "You have to solve all points at the same time.\n",
    "\n",
    "**Poisson equation**\n",
    "\n",
    "$$\\Delta u =f(x)$$\n",
    "\n",
    "Example: Candle in a room\n",
    "\n",
    "### Problem\n",
    "\n",
    "$$-\\Delta u=\\pi^2sin(\\pi x)$$\n",
    "\n",
    "### Boundary Conditions:\n",
    "\n",
    "$$u(-1)=0, u(1) =0$$\n",
    "\n",
    "### Exact solution:\n",
    "\n",
    "$$u(x)=sin(\\pi x)$$"
   ]
  },
  {
   "cell_type": "markdown",
   "id": "d730a4e3",
   "metadata": {},
   "source": [
    "### PDE:\n",
    "$$-\\Delta u=\\pi^2sin(\\pi x)$$\n",
    "$$u_{xx}=-\\pi^2sin(\\pi x)$$\n",
    "$$\\frac{\\partial^2u}{\\partial x^2}=-\\pi^2sin(\\pi x)$$\n",
    "\n",
    "So the residual will be:\n",
    "\n",
    "$$0=\\frac{\\partial^2u}{\\partial x^2}+\\pi^2sin(\\pi x)$$\n",
    "\n",
    "Note: Remeber that our neural network $NN(x)\\approx u(x)$ so:\n",
    "\n",
    "$$\\frac{\\partial^2NN}{\\partial x^2}\\approx\\frac{\\partial^2u}{\\partial x^2}$$\n",
    "\n",
    "$$f=\\frac{\\partial^2NN}{\\partial x^2}+\\pi^2sin(\\pi x)\\rightarrow 0$$\n",
    "\n",
    "\n",
    "**Initial Conditions (Dirichlet BC)**\n",
    "$$u(-1)=0$$\n",
    "\n",
    "$$u(1)=0$$\n",
    "\n",
    "Set a function to describe our boundary conditions:\n",
    "\n",
    "$$f_{BC}(x)=1-|x|$$\n",
    "\n",
    "Note: $f_{BC}$ is not the answer to our PDE, but it helps us describe the boundary condition (Generate data)."
   ]
  },
  {
   "cell_type": "markdown",
   "id": "67457d0f",
   "metadata": {},
   "source": [
    "### Neural Network"
   ]
  },
  {
   "cell_type": "code",
   "execution_count": 3,
   "id": "e73893c8",
   "metadata": {},
   "outputs": [],
   "source": [
    "def f_BC(x):\n",
    "  return 1-torch.abs(x)\n",
    "def f_real(x):\n",
    "  return torch.sin(np.pi*x)\n",
    "def PDE(x):\n",
    "  return -1*(np.pi**2)*torch.sin(np.pi*x)"
   ]
  },
  {
   "cell_type": "markdown",
   "id": "f8b6be85",
   "metadata": {},
   "source": [
    "# Generate data"
   ]
  },
  {
   "cell_type": "code",
   "execution_count": 4,
   "id": "0bcadb57",
   "metadata": {},
   "outputs": [],
   "source": [
    "class FCN(nn.Module):\n",
    "    ##Neural Network\n",
    "    def __init__(self,layers):\n",
    "        super().__init__() #call __init__ from parent class \n",
    "        'activation function'\n",
    "        self.activation = nn.Tanh()\n",
    "        'loss function'\n",
    "        self.loss_function = nn.MSELoss(reduction ='mean')\n",
    "        'Initialise neural network as a list using nn.Modulelist'  \n",
    "        self.linears = nn.ModuleList([nn.Linear(layers[i], layers[i+1]) for i in range(len(layers)-1)]) \n",
    "        self.iter = 0\n",
    "        'Xavier Normal Initialization'\n",
    "        # std = gain * sqrt(2/(input_dim+output_dim))\n",
    "        for i in range(len(layers)-1):\n",
    "            \n",
    "            # weights from a normal distribution with \n",
    "            # Recommended gain value for tanh = 5/3?\n",
    "            nn.init.xavier_normal_(self.linears[i].weight.data, gain=1.0)\n",
    "            \n",
    "            # set biases to zero\n",
    "            nn.init.zeros_(self.linears[i].bias.data)   \n",
    "    'foward pass'\n",
    "    def forward(self,x):\n",
    "        if torch.is_tensor(x) != True:         \n",
    "            x = torch.from_numpy(x)                \n",
    "        a = x.float()\n",
    "        for i in range(len(layers)-2):  \n",
    "            z = self.linears[i](a)              \n",
    "            a = self.activation(z)    \n",
    "        a = self.linears[-1](a)\n",
    "        return a\n",
    "    'Loss Functions'\n",
    "    #Loss BC\n",
    "    def lossBC(self,x_BC,y_BC):\n",
    "      loss_BC=self.loss_function(self.forward(x_BC),y_BC)\n",
    "      return loss_BC\n",
    "    #Loss PDE\n",
    "    def lossPDE(self,x_PDE):\n",
    "      g=x_PDE.clone()\n",
    "      g.requires_grad=True #Enable differentiation\n",
    "      f=self.forward(g)\n",
    "      f_x=autograd.grad(f,g,torch.ones([x_PDE.shape[0],1]).to(device),retain_graph=True, create_graph=True)[0] #first derivative\n",
    "      f_xx=autograd.grad(f_x,g,torch.ones([x_PDE.shape[0],1]).to(device), create_graph=True)[0]#second derivative\n",
    "      return self.loss_function(f_xx,PDE(g))\n",
    "      \n",
    "    def loss(self,x_BC,y_BC,x_PDE):\n",
    "      loss_bc=self.lossBC(x_BC,y_BC)\n",
    "      loss_pde=self.lossPDE(x_PDE)\n",
    "      return loss_bc+loss_pde"
   ]
  },
  {
   "cell_type": "code",
   "execution_count": 5,
   "id": "7876409d",
   "metadata": {},
   "outputs": [
    {
     "name": "stdout",
     "output_type": "stream",
     "text": [
      "torch.Size([500, 1]) torch.Size([500, 1])\n"
     ]
    }
   ],
   "source": [
    "# get the analytical solution over the full domain\n",
    "x = torch.linspace(min,max,total_points).view(-1,1) #prepare to NN\n",
    "y = f_real(x)\n",
    "print(x.shape, y.shape)"
   ]
  },
  {
   "cell_type": "code",
   "execution_count": 6,
   "id": "023aebb9",
   "metadata": {},
   "outputs": [
    {
     "data": {
      "text/plain": [
       "<matplotlib.legend.Legend at 0x21cab8fac70>"
      ]
     },
     "execution_count": 6,
     "metadata": {},
     "output_type": "execute_result"
    },
    {
     "data": {
      "image/png": "[encoded data removed]",
      "text/plain": [
       "<Figure size 432x288 with 1 Axes>"
      ]
     },
     "metadata": {
      "needs_background": "light"
     },
     "output_type": "display_data"
    }
   ],
   "source": [
    "fig, ax1 = plt.subplots()\n",
    "ax1.plot(x.detach().numpy(),y.detach().numpy(),color='blue',label='Real Function')\n",
    "#ax1.plot(x_train.detach().numpy(),yh.detach().numpy(),color='red',label='Pred_Train')\n",
    "ax1.set_xlabel('x',color='black')\n",
    "ax1.set_ylabel('f(x)',color='black')\n",
    "ax1.tick_params(axis='y', color='black')\n",
    "ax1.legend(loc = 'upper left')"
   ]
  },
  {
   "cell_type": "code",
   "execution_count": 7,
   "id": "ee7fc125",
   "metadata": {},
   "outputs": [],
   "source": [
    "#def get_training_data(x):\n",
    "#Nu: Number of training point, # Nf: Number of colloction points\n",
    "# Set Boundary conditions x=min & x= max\n",
    "BC_1=x[0,:]\n",
    "BC_2=x[-1,:]\n",
    "# Total Tpaining points BC1+BC2\n",
    "all_train=torch.vstack([BC_1,BC_2])\n",
    "#Select Nu points\n",
    "idx = np.random.choice(all_train.shape[0], Nu, replace=False) \n",
    "x_BC=all_train[idx]\n",
    "#Select Nf points\n",
    "# Latin Hypercube sampling for collocation points \n",
    "x_PDE = BC_1 + (BC_2-BC_1)*lhs(1,Nf)\n",
    "x_PDE = torch.vstack((x_PDE,x_BC))"
   ]
  },
  {
   "cell_type": "code",
   "execution_count": 8,
   "id": "61331ce0",
   "metadata": {},
   "outputs": [],
   "source": [
    "y_BC=f_BC(x_BC).to(device)"
   ]
  },
  {
   "cell_type": "markdown",
   "id": "03adafad",
   "metadata": {},
   "source": [
    "# Train Neural Network"
   ]
  },
  {
   "cell_type": "code",
   "execution_count": 10,
   "id": "77dc18f8",
   "metadata": {},
   "outputs": [
    {
     "name": "stdout",
     "output_type": "stream",
     "text": [
      "FCN(\n",
      "  (activation): Tanh()\n",
      "  (loss_function): MSELoss()\n",
      "  (linears): ModuleList(\n",
      "    (0): Linear(in_features=1, out_features=50, bias=True)\n",
      "    (1): Linear(in_features=50, out_features=50, bias=True)\n",
      "    (2): Linear(in_features=50, out_features=20, bias=True)\n",
      "    (3): Linear(in_features=20, out_features=50, bias=True)\n",
      "    (4): Linear(in_features=50, out_features=50, bias=True)\n",
      "    (5): Linear(in_features=50, out_features=1, bias=True)\n",
      "  )\n",
      ")\n"
     ]
    }
   ],
   "source": [
    "\n",
    "#Store tensors to GPU\n",
    "torch.manual_seed(123)\n",
    "x_PDE=x_PDE.float().to(device)\n",
    "x_BC=x_BC.to(device)\n",
    "#Create Model\n",
    "model = FCN(layers)\n",
    "print(model)\n",
    "model.to(device)\n",
    "params = list(model.parameters())\n",
    "optimizer = torch.optim.Adam(model.parameters(),lr=lr,amsgrad=False)\n",
    "start_time = time.time()"
   ]
  },
  {
   "cell_type": "code",
   "execution_count": 11,
   "id": "04713992",
   "metadata": {},
   "outputs": [
    {
     "data": {
      "text/plain": [
       "tensor(0.0160, device='cuda:0', grad_fn=<MseLossBackward0>)"
      ]
     },
     "execution_count": 11,
     "metadata": {},
     "output_type": "execute_result"
    }
   ],
   "source": [
    "\n",
    "model.lossBC(x_BC,y_BC)"
   ]
  },
  {
   "cell_type": "code",
   "execution_count": 12,
   "id": "b19b55d9",
   "metadata": {
    "scrolled": true
   },
   "outputs": [
    {
     "name": "stdout",
     "output_type": "stream",
     "text": [
      "tensor(47.8740, device='cuda:0', grad_fn=<AddBackward0>)\n",
      "tensor(0.0155, device='cuda:0', grad_fn=<AddBackward0>)\n",
      "tensor(0.0031, device='cuda:0', grad_fn=<AddBackward0>)\n",
      "tensor(0.0015, device='cuda:0', grad_fn=<AddBackward0>)\n",
      "tensor(0.0007, device='cuda:0', grad_fn=<AddBackward0>)\n",
      "tensor(0.0004, device='cuda:0', grad_fn=<AddBackward0>)\n",
      "tensor(0.0002, device='cuda:0', grad_fn=<AddBackward0>)\n",
      "tensor(0.0002, device='cuda:0', grad_fn=<AddBackward0>)\n",
      "tensor(0.0003, device='cuda:0', grad_fn=<AddBackward0>)\n",
      "tensor(0.0012, device='cuda:0', grad_fn=<AddBackward0>)\n"
     ]
    }
   ],
   "source": [
    "for i in range(steps):\n",
    "    yh = model(x_PDE)\n",
    "    loss = model.loss(x_BC,y_BC,x_PDE)# use mean squared error\n",
    "    optimizer.zero_grad()\n",
    "    loss.backward()\n",
    "    optimizer.step()\n",
    "    if i%(steps/10)==0:\n",
    "      print(loss)"
   ]
  },
  {
   "cell_type": "markdown",
   "id": "f7b3957c",
   "metadata": {},
   "source": [
    "### Plots"
   ]
  },
  {
   "cell_type": "code",
   "execution_count": 13,
   "id": "5f7526df",
   "metadata": {},
   "outputs": [
    {
     "name": "stdout",
     "output_type": "stream",
     "text": [
      "tensor(7.5533e-06, device='cuda:0', grad_fn=<MseLossBackward0>)\n"
     ]
    }
   ],
   "source": [
    "# Function\n",
    "yh=model(x.to(device))\n",
    "y=f_real(x)\n",
    "#Error\n",
    "print(model.lossBC(x.to(device),f_real(x).to(device)))"
   ]
  },
  {
   "cell_type": "code",
   "execution_count": 14,
   "id": "1e06b2cf",
   "metadata": {},
   "outputs": [],
   "source": [
    "# Derivative\n",
    "g=x.to(device)\n",
    "g=g.clone()\n",
    "g.requires_grad=True #Enable differentiation\n",
    "f=model(g)\n",
    "f_x=autograd.grad(f,g,torch.ones([g.shape[0],1]).to(device),retain_graph=True, create_graph=True)[0]\n"
   ]
  },
  {
   "cell_type": "code",
   "execution_count": 15,
   "id": "c147ac91",
   "metadata": {},
   "outputs": [],
   "source": [
    "# Detach from GPU\n",
    "y_plot=y.detach().numpy()\n",
    "yh_plot=yh.detach().cpu().numpy()\n",
    "f_x_plot=f_x.detach().cpu().numpy()"
   ]
  },
  {
   "cell_type": "code",
   "execution_count": 16,
   "id": "2c94da2d",
   "metadata": {},
   "outputs": [
    {
     "data": {
      "text/plain": [
       "<matplotlib.legend.Legend at 0x21cb4222c70>"
      ]
     },
     "execution_count": 16,
     "metadata": {},
     "output_type": "execute_result"
    },
    {
     "data": {
      "image/png": "[encoded data removed]",
      "text/plain": [
       "<Figure size 432x288 with 1 Axes>"
      ]
     },
     "metadata": {
      "needs_background": "light"
     },
     "output_type": "display_data"
    }
   ],
   "source": [
    "# Plot\n",
    "fig, ax1 = plt.subplots()\n",
    "ax1.plot(x,y_plot,color='blue',label='Real u(x)')\n",
    "ax1.plot(x,yh_plot,color='red',label='Predicted u(x)')\n",
    "ax1.plot(x,f_x_plot,color='green',label='Computed u\\'(x)')\n",
    "ax1.set_xlabel('x',color='black')\n",
    "ax1.set_ylabel('f(x)',color='black')\n",
    "ax1.tick_params(axis='y', color='black')\n",
    "ax1.legend(loc = 'upper left')"
   ]
  },
  {
   "cell_type": "code",
   "execution_count": 18,
   "id": "84134b0e",
   "metadata": {},
   "outputs": [
    {
     "data": {
      "image/png": "[encoded data removed]",
      "text/plain": [
       "<Figure size 432x288 with 1 Axes>"
      ]
     },
     "metadata": {
      "needs_background": "light"
     },
     "output_type": "display_data"
    }
   ],
   "source": [
    "diff = abs(yh_plot - y_plot)\n",
    "\n",
    "plt.plot(x, diff, '--')\n",
    "plt.xlabel('x')\n",
    "plt.ylabel('Difference')\n",
    "\n",
    "plt.show()"
   ]
  },
  {
   "cell_type": "code",
   "execution_count": null,
   "id": "32f090d2",
   "metadata": {},
   "outputs": [],
   "source": []
  }
 ],
 "metadata": {
  "kernelspec": {
   "display_name": "Python 3 (ipykernel)",
   "language": "python",
   "name": "python3"
  },
  "language_info": {
   "codemirror_mode": {
    "name": "ipython",
    "version": 3
   },
   "file_extension": ".py",
   "mimetype": "text/x-python",
   "name": "python",
   "nbconvert_exporter": "python",
   "pygments_lexer": "ipython3",
   "version": "3.8.13"
  }
 },
 "nbformat": 4,
 "nbformat_minor": 5
}
