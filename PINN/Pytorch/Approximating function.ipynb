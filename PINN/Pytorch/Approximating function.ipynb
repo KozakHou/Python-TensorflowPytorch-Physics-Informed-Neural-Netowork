{
 "cells": [
  {
   "cell_type": "markdown",
   "id": "4bc1f8df",
   "metadata": {},
   "source": [
    "# Libraries"
   ]
  },
  {
   "cell_type": "code",
   "execution_count": 1,
   "id": "4ed36117",
   "metadata": {},
   "outputs": [
    {
     "name": "stdout",
     "output_type": "stream",
     "text": [
      "cuda\n"
     ]
    }
   ],
   "source": [
    "import torch\n",
    "import torch.autograd as autograd         # computation graph\n",
    "from torch import Tensor                  # tensor node in the computation graph\n",
    "import torch.nn as nn                     # neural networks\n",
    "import torch.optim as optim               # optimizers e.g. gradient descent, ADAM, etc.\n",
    "\n",
    "import matplotlib.pyplot as plt\n",
    "import matplotlib.gridspec as gridspec\n",
    "from mpl_toolkits.axes_grid1 import make_axes_locatable\n",
    "from mpl_toolkits.mplot3d import Axes3D\n",
    "import matplotlib.ticker\n",
    "from sklearn.model_selection import train_test_split\n",
    "\n",
    "import numpy as np\n",
    "import time\n",
    "from pyDOE import lhs         #Latin Hypercube Sampling\n",
    "import scipy.io\n",
    "\n",
    "#Set default dtype to float32\n",
    "torch.set_default_dtype(torch.float)\n",
    "\n",
    "#PyTorch random number generator\n",
    "torch.manual_seed(1234)\n",
    "\n",
    "# Random number generators in other libraries\n",
    "np.random.seed(1234)\n",
    "\n",
    "# Device configuration\n",
    "device = torch.device('cuda' if torch.cuda.is_available() else 'cpu')\n",
    "\n",
    "print(device)\n",
    "\n",
    "if device == 'cuda': \n",
    "    print(torch.cuda.get_device_name())"
   ]
  },
  {
   "cell_type": "code",
   "execution_count": 2,
   "id": "defb5c42",
   "metadata": {},
   "outputs": [
    {
     "name": "stdout",
     "output_type": "stream",
     "text": [
      "cuda\n"
     ]
    }
   ],
   "source": [
    "# Device configuration\n",
    "device = torch.device('cuda' if torch.cuda.is_available() else 'cpu')\n",
    "\n",
    "print(device)\n",
    "\n",
    "if device == 'cuda': \n",
    "    print(torch.cuda.get_device_name())"
   ]
  },
  {
   "cell_type": "markdown",
   "id": "1bec2cc7",
   "metadata": {},
   "source": [
    "# Tunning Parameters"
   ]
  },
  {
   "cell_type": "code",
   "execution_count": 3,
   "id": "8e38b0b0",
   "metadata": {},
   "outputs": [],
   "source": [
    "steps=20000\n",
    "lr=1e-3"
   ]
  },
  {
   "cell_type": "markdown",
   "id": "1c7283a6",
   "metadata": {},
   "source": [
    "# Functions"
   ]
  },
  {
   "cell_type": "code",
   "execution_count": 4,
   "id": "b07ba43b",
   "metadata": {},
   "outputs": [],
   "source": [
    "def f(x):\n",
    "    y=torch.sin(x)\n",
    "    return y\n",
    "class FCN(nn.Module):\n",
    "    \n",
    "    def __init__(self,layers):\n",
    "        super().__init__() #call __init__ from parent class super().__init__()\n",
    "              \n",
    "        'activation function'\n",
    "        self.activation = nn.Tanh()\n",
    "\n",
    "        'loss function'\n",
    "        self.loss_function = nn.MSELoss(reduction ='mean')\n",
    "    \n",
    "        'Initialise neural network as a list using nn.Modulelist'  \n",
    "        self.linears = nn.ModuleList([nn.Linear(layers[i], layers[i+1]) for i in range(len(layers)-1)])\n",
    "        \n",
    "        self.iter = 0\n",
    "        \n",
    "        'Xavier Normal Initialization'\n",
    "        # std = gain * sqrt(2/(input_dim+output_dim))\n",
    "        for i in range(len(layers)-1):\n",
    "            \n",
    "            # weights from a normal distribution with \n",
    "            # Recommended gain value for tanh = 5/3?\n",
    "            nn.init.xavier_normal_(self.linears[i].weight.data, gain=1.0)\n",
    "            \n",
    "            # set biases to zero\n",
    "            nn.init.zeros_(self.linears[i].bias.data)\n",
    "            \n",
    "    'foward pass'\n",
    "    def forward(self,x):\n",
    "        \n",
    "        if torch.is_tensor(x) != True:         \n",
    "            x = torch.from_numpy(x)                \n",
    "        a = x.float()\n",
    "        for i in range(len(layers)-2):\n",
    "            \n",
    "            z = self.linears[i](a)\n",
    "                        \n",
    "            a = self.activation(z)\n",
    "            \n",
    "        a = self.linears[-1](a)\n",
    "        \n",
    "        return a\n",
    "\n",
    "    def lossNN(self,x,y):\n",
    "      loss_val=self.loss_function(self.forward(x),y)\n",
    "      return loss_val\n",
    "\n",
    "    def closure(self):\n",
    "        \n",
    "        optimizer.zero_grad()\n",
    "        \n",
    "        loss = self.lossNN(x_train, y_train)\n",
    "        \n",
    "        loss.backward()\n",
    "                \n",
    "        self.iter += 1\n",
    "        \n",
    "        if self.iter % 100 == 0:\n",
    "        \n",
    "            print(loss)\n",
    "\n",
    "        return loss"
   ]
  },
  {
   "cell_type": "markdown",
   "id": "fa61d4f7",
   "metadata": {},
   "source": [
    "# Generate data"
   ]
  },
  {
   "cell_type": "code",
   "execution_count": 5,
   "id": "d58b2b4b",
   "metadata": {},
   "outputs": [
    {
     "name": "stdout",
     "output_type": "stream",
     "text": [
      "torch.Size([500, 1]) torch.Size([500, 1])\n"
     ]
    }
   ],
   "source": [
    "# get the analytical solution over the full domain\n",
    "x = torch.linspace(0,2*np.pi,500).view(-1,1) #prepare to NN\n",
    "y = f(x)\n",
    "print(x.shape, y.shape)\n"
   ]
  },
  {
   "cell_type": "code",
   "execution_count": 6,
   "id": "9a5dc8eb",
   "metadata": {},
   "outputs": [
    {
     "data": {
      "text/plain": [
       "<matplotlib.legend.Legend at 0x1d87854f880>"
      ]
     },
     "execution_count": 6,
     "metadata": {},
     "output_type": "execute_result"
    },
    {
     "data": {
      "image/png": "[encoded data removed]",
      "text/plain": [
       "<Figure size 432x288 with 1 Axes>"
      ]
     },
     "metadata": {
      "needs_background": "light"
     },
     "output_type": "display_data"
    }
   ],
   "source": [
    "fig, ax1 = plt.subplots()\n",
    "ax1.plot(x.detach().numpy(),y.detach().numpy(),color='blue',label='Real_Train')\n",
    "#ax1.plot(x_train.detach().numpy(),yh.detach().numpy(),color='red',label='Pred_Train')\n",
    "ax1.set_xlabel('x',color='black')\n",
    "ax1.set_ylabel('f(x)',color='black')\n",
    "ax1.tick_params(axis='y', color='black')\n",
    "ax1.legend(loc = 'upper left')"
   ]
  },
  {
   "cell_type": "code",
   "execution_count": 7,
   "id": "a9e59941",
   "metadata": {},
   "outputs": [],
   "source": [
    "indices=np.arange(500)"
   ]
  },
  {
   "cell_type": "code",
   "execution_count": 8,
   "id": "41672942",
   "metadata": {},
   "outputs": [],
   "source": [
    "train_idx,test_idx, _,_ = train_test_split(indices, indices, test_size=0.2, random_state=42)"
   ]
  },
  {
   "cell_type": "code",
   "execution_count": 9,
   "id": "413b57da",
   "metadata": {},
   "outputs": [],
   "source": [
    "x_train=x[train_idx]\n",
    "y_train=y[train_idx]\n",
    "x_test=x[test_idx]\n",
    "y_test=y[test_idx]"
   ]
  },
  {
   "cell_type": "markdown",
   "id": "0346c3df",
   "metadata": {},
   "source": [
    "# Train Neural Network"
   ]
  },
  {
   "cell_type": "code",
   "execution_count": 27,
   "id": "f9ae348b",
   "metadata": {},
   "outputs": [
    {
     "name": "stdout",
     "output_type": "stream",
     "text": [
      "FCN(\n",
      "  (activation): Tanh()\n",
      "  (loss_function): MSELoss()\n",
      "  (linears): ModuleList(\n",
      "    (0): Linear(in_features=1, out_features=50, bias=True)\n",
      "    (1): Linear(in_features=50, out_features=50, bias=True)\n",
      "    (2): Linear(in_features=50, out_features=20, bias=True)\n",
      "    (3): Linear(in_features=20, out_features=50, bias=True)\n",
      "    (4): Linear(in_features=50, out_features=50, bias=True)\n",
      "    (5): Linear(in_features=50, out_features=1, bias=True)\n",
      "  )\n",
      ")\n"
     ]
    }
   ],
   "source": [
    "torch.manual_seed(123)\n",
    "x_train=x_train.float().to(device)\n",
    "y_train=y_train.float().to(device)\n",
    "layers = np.array([1,50,50,20,50,50,1]) #5 hidden layers\n",
    "model = FCN(layers)\n",
    "print(model)\n",
    "model.to(device)\n",
    "params = list(model.parameters())\n",
    "optimizer = torch.optim.Adam(model.parameters(),lr=lr,amsgrad=False)\n",
    "start_time = time.time()\n"
   ]
  },
  {
   "cell_type": "code",
   "execution_count": 11,
   "id": "d38a3302",
   "metadata": {},
   "outputs": [
    {
     "name": "stdout",
     "output_type": "stream",
     "text": [
      "tensor(0.6415, device='cuda:0', grad_fn=<MseLossBackward0>)\n",
      "tensor(1.0738e-05, device='cuda:0', grad_fn=<MseLossBackward0>)\n",
      "tensor(0.0028, device='cuda:0', grad_fn=<MseLossBackward0>)\n",
      "tensor(0.0005, device='cuda:0', grad_fn=<MseLossBackward0>)\n",
      "tensor(2.8951e-06, device='cuda:0', grad_fn=<MseLossBackward0>)\n",
      "tensor(1.9385e-05, device='cuda:0', grad_fn=<MseLossBackward0>)\n",
      "tensor(4.7738e-06, device='cuda:0', grad_fn=<MseLossBackward0>)\n",
      "tensor(1.8396e-06, device='cuda:0', grad_fn=<MseLossBackward0>)\n",
      "tensor(1.4244e-06, device='cuda:0', grad_fn=<MseLossBackward0>)\n",
      "tensor(2.9485e-06, device='cuda:0', grad_fn=<MseLossBackward0>)\n"
     ]
    }
   ],
   "source": [
    "for i in range(steps):\n",
    "    optimizer.zero_grad()\n",
    "    yh = model(x_train)\n",
    "    loss = model.lossNN(x_train,y_train)# use mean squared error\n",
    "    loss.backward()\n",
    "    optimizer.step()\n",
    "    if i%(steps/10)==0:\n",
    "      print(loss)"
   ]
  },
  {
   "cell_type": "code",
   "execution_count": 12,
   "id": "4fa88812",
   "metadata": {},
   "outputs": [
    {
     "name": "stdout",
     "output_type": "stream",
     "text": [
      "tensor(7.8261e-05, device='cuda:0', grad_fn=<MseLossBackward0>)\n"
     ]
    }
   ],
   "source": [
    "print(model.lossNN(x_test.float().to(device),y_test.float().to(device)))"
   ]
  },
  {
   "cell_type": "code",
   "execution_count": 13,
   "id": "b2c8ba61",
   "metadata": {},
   "outputs": [],
   "source": [
    "yh=model(x_train)\n",
    "yh_test=model(x_test.float().to(device))"
   ]
  },
  {
   "cell_type": "code",
   "execution_count": 14,
   "id": "f089ae82",
   "metadata": {},
   "outputs": [],
   "source": [
    "_,indices2=torch.sort(x_train.squeeze(1))\n",
    "_,indices3=torch.sort(x_test.squeeze(1))"
   ]
  },
  {
   "cell_type": "code",
   "execution_count": 15,
   "id": "dbb3c461",
   "metadata": {},
   "outputs": [],
   "source": [
    "x_train_plot=x_train[indices2]\n",
    "y_train_plot=y_train[indices2]\n",
    "yh_plot=yh[indices2]\n",
    "x_test_plot=x_test[indices3]\n",
    "y_test_plot=y_test[indices3]\n",
    "yh_test_plot=yh_test[indices3]"
   ]
  },
  {
   "cell_type": "code",
   "execution_count": 16,
   "id": "b63067c7",
   "metadata": {},
   "outputs": [
    {
     "data": {
      "text/plain": [
       "<matplotlib.legend.Legend at 0x1d808d62490>"
      ]
     },
     "execution_count": 16,
     "metadata": {},
     "output_type": "execute_result"
    },
    {
     "data": {
      "image/png": "[encoded data removed]",
      "text/plain": [
       "<Figure size 432x288 with 1 Axes>"
      ]
     },
     "metadata": {
      "needs_background": "light"
     },
     "output_type": "display_data"
    }
   ],
   "source": [
    "fig = plt.figure()\n",
    "ax1 = fig.add_subplot(1, 1, 1)\n",
    "ax1.plot(x_train_plot.detach().cpu().numpy(),y_train_plot.detach().cpu().numpy(),color='blue',label='Real_Train')\n",
    "ax1.plot(x_train_plot.detach().cpu().numpy(),yh_plot.detach().cpu().numpy(),color='red',label='Pred_Train')\n",
    "\n",
    "\n",
    "ax1.set_xlabel('x',color='black')\n",
    "ax1.set_ylabel('f(x)',color='black')\n",
    "ax1.tick_params(axis='y', color='black')\n",
    "ax1.legend(loc = 'upper left')\n",
    "\n"
   ]
  },
  {
   "cell_type": "code",
   "execution_count": 23,
   "id": "94021765",
   "metadata": {},
   "outputs": [
    {
     "data": {
      "text/plain": [
       "Text(0, 0.5, 'Difference')"
      ]
     },
     "execution_count": 23,
     "metadata": {},
     "output_type": "execute_result"
    },
    {
     "data": {
      "image/png": "[encoded data removed]",
      "text/plain": [
       "<Figure size 648x648 with 1 Axes>"
      ]
     },
     "metadata": {
      "needs_background": "light"
     },
     "output_type": "display_data"
    }
   ],
   "source": [
    "diff = abs(y_train_plot.detach().cpu().numpy() - yh_plot.detach().cpu().numpy())\n",
    "\n",
    "\n",
    "fig1 = plt.figure(figsize = (9, 9))\n",
    "ax3 = fig1.add_subplot(2, 1, 1)\n",
    "ax3.plot(x_train_plot.detach().cpu().numpy(), diff, '--', label = 'Difference', color = 'red')\n",
    "ax3.set_xlabel('x', color = 'black')\n",
    "ax3.set_ylabel('Difference', color = 'black')\n",
    "\n",
    "\n",
    "# ```python\n",
    "# error_rate = diff/y_train_plot.detach().cpu().numpy() * 100\n",
    "# ax4 = fig1.add_subplot(2, 1, 2)\n",
    "# ax4.plot(x_train_plot.detach().cpu().numpy(), error_rate, '.', label = \"Error rate\", color = 'purple')\n",
    "# ax4.set_xlabel('x')\n",
    "# ax4.set_ylabel('percentage')\n",
    "# ```"
   ]
  },
  {
   "cell_type": "code",
   "execution_count": null,
   "id": "fe97cdfa",
   "metadata": {},
   "outputs": [],
   "source": []
  }
 ],
 "metadata": {
  "kernelspec": {
   "display_name": "Python 3 (ipykernel)",
   "language": "python",
   "name": "python3"
  },
  "language_info": {
   "codemirror_mode": {
    "name": "ipython",
    "version": 3
   },
   "file_extension": ".py",
   "mimetype": "text/x-python",
   "name": "python",
   "nbconvert_exporter": "python",
   "pygments_lexer": "ipython3",
   "version": "3.8.13"
  }
 },
 "nbformat": 4,
 "nbformat_minor": 5
}
