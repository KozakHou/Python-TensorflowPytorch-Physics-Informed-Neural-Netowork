{
 "cells": [
  {
   "cell_type": "code",
   "execution_count": 7,
   "id": "1cac079e",
   "metadata": {},
   "outputs": [],
   "source": [
    "import torch\n",
    "import torch.autograd as autograd\n",
    "from torch import Tensor\n",
    "import torch.nn as nn\n",
    "import torch.optim as optim\n",
    "\n",
    "import matplotlib.pyplot as plt\n",
    "import matplotlib.gridspec as gridspec\n",
    "from mpl_toolkits.axes_grid1 import make_axes_locatable\n",
    "from mpl_toolkits.mplot3d import Axes3D\n",
    "import matplotlib.ticker\n",
    "\n",
    "from sklearn.model_selection import train_test_split\n",
    "\n",
    "import numpy as np\n",
    "import time\n",
    "from pyDOE import lhs       #Latin Hypercube Sampling\n",
    "import scipy.io\n",
    "\n",
    "\n",
    "\n",
    "class FCN(nn.Module):\n",
    "    def __init__(self, layers):\n",
    "        super().__init__()\n",
    "        \n",
    "        'activation function'\n",
    "        self.activation = nn.Tanh()\n",
    "        \n",
    "        'loss function'\n",
    "        self.loss_function = nn.MSELoss(reduction = 'mean')\n",
    "        \n",
    "        'Initialise neural network as a list using nn.Modulelist'\n",
    "        self.linears = nn.ModuleList([nn.Linear(layers[i], layers[i+1]) for i in range(len(layers) -1)])\n",
    "        \n",
    "        self.iter = 0\n",
    "        \n",
    "        'Xavier Normal Initialization'\n",
    "        # Std = gain * sqrt(2/(input_dim + output_dim))\n",
    "        for i in range(len(layers) - 1):\n",
    "            \n",
    "            nn.init.xavier_normal_(self.linears[i].weight.data, gain = 1.0)\n",
    "            \n",
    "            # set biases to zero\n",
    "            nn.init.zeros_(self.linears[i].bias.data)\n",
    "            \n",
    "        \n",
    "        'forward pass'\n",
    "        def forward(self, x):\n",
    "            if torch.is_tensor(x) != True:\n",
    "                x = torch.from_numpy(x)\n",
    "            \n",
    "            a = x.float()\n",
    "            \n",
    "            for i in range(len(layers) - 2):\n",
    "                \n",
    "                z = self.linears[i](a)\n",
    "                \n",
    "                a = self.activation(z)\n",
    "                \n",
    "            a = self.activation[-1](a)\n",
    "            \n",
    "            return a\n",
    "            \n",
    "        \n",
    "        def lossNN(self, x, y):\n",
    "            loss_val = self.loss_function(self.forward(x), y)\n",
    "            return loss_val\n",
    "            \n",
    "    \n",
    "        def closure(self):\n",
    "            \n",
    "            optimizer.zero_grad()\n",
    "            \n",
    "            loss = self.lossNN(x_train, y_train)\n",
    " \n",
    "            loss.backward()\n",
    "    \n",
    "            self.iter += 1\n",
    "            \n",
    "            if self.iter % 100 == 0:\n",
    "                \n",
    "                print(loss)\n",
    "                \n",
    "            return loss\n",
    "            \n",
    "            \n",
    "\n",
    "def f(x):\n",
    "    y = np.sin(x)\n",
    "    return y\n",
    "            "
   ]
  },
  {
   "cell_type": "code",
   "execution_count": 8,
   "id": "6b834592",
   "metadata": {},
   "outputs": [
    {
     "name": "stdout",
     "output_type": "stream",
     "text": [
      "torch.Size([500, 1]) torch.Size([500, 1])\n"
     ]
    }
   ],
   "source": [
    "x = torch.linspace(0, 2*np.pi, 500).view(-1, 1)\n",
    "\n",
    "y = f(x)\n",
    "\n",
    "print(x.shape, y.shape)"
   ]
  },
  {
   "cell_type": "code",
   "execution_count": 9,
   "id": "2b9ce493",
   "metadata": {},
   "outputs": [],
   "source": [
    "steps=20000\n",
    "lr=1e-3"
   ]
  },
  {
   "cell_type": "code",
   "execution_count": 10,
   "id": "d124dae2",
   "metadata": {},
   "outputs": [
    {
     "name": "stdout",
     "output_type": "stream",
     "text": [
      "cuda\n"
     ]
    }
   ],
   "source": [
    "device = torch.device('cuda' if torch.cuda.is_available() else 'cpu')\n",
    "\n",
    "print(device)\n",
    "\n",
    "if device == 'cuda':\n",
    "    print(torch.cuda.get_device_name())"
   ]
  },
  {
   "cell_type": "code",
   "execution_count": 12,
   "id": "3e6eab33",
   "metadata": {},
   "outputs": [],
   "source": [
    "import torch\n",
    "import torch.autograd as autograd\n",
    "from torch import Tensor\n",
    "import torch.nn as nn\n",
    "import torch.optim as optim\n",
    "\n",
    "import matplotlib.pyplot as plt\n",
    "import matplotlib.gridspec as gridspec\n",
    "from mpl_toolkits.mplot3d import Axes3D\n",
    "from mpl_toolkits.axes_grid1 import make_axes_locatable\n",
    "\n",
    "import matplotlib.ticker\n",
    "from sklearn.model_selection import train_test_split\n",
    "\n",
    "import numpy as np\n",
    "import time\n",
    "from pyDOE import lhs\n",
    "import scipy.io\n",
    "\n",
    "torch.set_default_dtype(torch.float)"
   ]
  },
  {
   "cell_type": "code",
   "execution_count": null,
   "id": "176c3c20",
   "metadata": {},
   "outputs": [],
   "source": []
  },
  {
   "cell_type": "code",
   "execution_count": null,
   "id": "b39ea990",
   "metadata": {},
   "outputs": [],
   "source": []
  },
  {
   "cell_type": "code",
   "execution_count": null,
   "id": "044bf37f",
   "metadata": {},
   "outputs": [],
   "source": []
  },
  {
   "cell_type": "code",
   "execution_count": null,
   "id": "75fadb81",
   "metadata": {},
   "outputs": [],
   "source": []
  },
  {
   "cell_type": "code",
   "execution_count": null,
   "id": "62201252",
   "metadata": {},
   "outputs": [],
   "source": []
  },
  {
   "cell_type": "code",
   "execution_count": null,
   "id": "0af9f4fc",
   "metadata": {},
   "outputs": [],
   "source": []
  },
  {
   "cell_type": "code",
   "execution_count": null,
   "id": "e7a853a0",
   "metadata": {},
   "outputs": [],
   "source": []
  },
  {
   "cell_type": "code",
   "execution_count": null,
   "id": "5f73b394",
   "metadata": {},
   "outputs": [],
   "source": []
  },
  {
   "cell_type": "code",
   "execution_count": null,
   "id": "bfde024f",
   "metadata": {},
   "outputs": [],
   "source": []
  },
  {
   "cell_type": "code",
   "execution_count": null,
   "id": "5fd29b36",
   "metadata": {},
   "outputs": [],
   "source": []
  }
 ],
 "metadata": {
  "kernelspec": {
   "display_name": "Python 3 (ipykernel)",
   "language": "python",
   "name": "python3"
  },
  "language_info": {
   "codemirror_mode": {
    "name": "ipython",
    "version": 3
   },
   "file_extension": ".py",
   "mimetype": "text/x-python",
   "name": "python",
   "nbconvert_exporter": "python",
   "pygments_lexer": "ipython3",
   "version": "3.8.13"
  }
 },
 "nbformat": 4,
 "nbformat_minor": 5
}
