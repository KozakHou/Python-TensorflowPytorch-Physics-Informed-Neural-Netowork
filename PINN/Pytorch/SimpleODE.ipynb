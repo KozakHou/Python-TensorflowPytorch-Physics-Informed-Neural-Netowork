{
 "cells": [
  {
   "cell_type": "markdown",
   "id": "44b5e348",
   "metadata": {},
   "source": [
    "# Libraries"
   ]
  },
  {
   "cell_type": "code",
   "execution_count": 10,
   "id": "6858e3c6",
   "metadata": {},
   "outputs": [
    {
     "name": "stdout",
     "output_type": "stream",
     "text": [
      "cuda\n"
     ]
    }
   ],
   "source": [
    "import torch\n",
    "import torch.autograd as autograd         # computation graph\n",
    "from torch import Tensor                  # tensor node in the computation graph\n",
    "import torch.nn as nn                     # neural networks\n",
    "import torch.optim as optim               # optimizers e.g. gradient descent, ADAM, etc.\n",
    "\n",
    "import matplotlib.pyplot as plt\n",
    "import matplotlib.gridspec as gridspec\n",
    "from mpl_toolkits.axes_grid1 import make_axes_locatable\n",
    "from mpl_toolkits.mplot3d import Axes3D\n",
    "import matplotlib.ticker\n",
    "from sklearn.model_selection import train_test_split\n",
    "\n",
    "import numpy as np\n",
    "from time import time\n",
    "from pyDOE import lhs         #Latin Hypercube Sampling\n",
    "import scipy.io\n",
    "\n",
    "#Set default dtype to float32\n",
    "torch.set_default_dtype(torch.float)\n",
    "\n",
    "#PyTorch random number generator\n",
    "torch.manual_seed(1234)\n",
    "\n",
    "# Random number generators in other libraries\n",
    "np.random.seed(1234)\n",
    "\n",
    "# Device configuration\n",
    "device = torch.device('cuda' if torch.cuda.is_available() else 'cpu')\n",
    "\n",
    "print(device)\n",
    "\n",
    "if device == 'cuda': \n",
    "    print(torch.cuda.get_device_name())"
   ]
  },
  {
   "cell_type": "markdown",
   "id": "8e8c8b83",
   "metadata": {},
   "source": [
    "# Tunning Parameters"
   ]
  },
  {
   "cell_type": "code",
   "execution_count": 11,
   "id": "7ff9613b",
   "metadata": {},
   "outputs": [],
   "source": [
    "steps=5000\n",
    "lr=1e-3\n",
    "layers = np.array([1,50,50,20,50,50,1]) #5 hidden layers\n",
    "min=0\n",
    "max=2*np.pi\n",
    "total_points=500\n",
    "#Nu: Number of training points (2 as we onlt have 2 boundaries), # Nf: Number of collocation points (Evaluate PDE)\n",
    "Nu=2\n",
    "Nf=250"
   ]
  },
  {
   "cell_type": "markdown",
   "id": "e49bf6d9",
   "metadata": {},
   "source": [
    "# Problem Setup\n",
    "\n",
    "### **ODE**\n",
    "\n",
    "$$y_x=\\frac{dy}{dx}=cos(x)$$\n",
    "\n",
    "The residual will be:\n",
    "\n",
    "$$f=y_x-cos(x)$$\n",
    "\n",
    "This function will be minimized by the NN\n",
    "\n",
    "**Initial Conditions:**\n",
    "\n",
    "$$y(0)=0$$\n",
    "\n",
    "$$y(2\\pi)=0$$\n",
    "\n",
    "\n",
    "**Solution:**\n",
    "\n",
    "$$\\int dy=\\int cos(x)dx$$\n",
    "\n",
    "$$y=sin(x)+C$$\n",
    "\n",
    "Since: \n",
    "\n",
    "$$y(0)=0=sin(0)+C$$\n",
    "\n",
    "$$C=0$$\n",
    "\n",
    "So: \n",
    "\n",
    "$$y(x)=sin(x)$$"
   ]
  },
  {
   "cell_type": "code",
   "execution_count": 12,
   "id": "3e6e8436",
   "metadata": {},
   "outputs": [],
   "source": [
    "def f_BC(x): # This function satisfies the boundry conditions. The same as the real one (To ease the data generation), but we may not have it.\n",
    "  return torch.sin(x)\n",
    "def PDE(x): # The PDE equation. We use it to get the residual in the Neurl Network.\n",
    "  return torch.cos(x)"
   ]
  },
  {
   "cell_type": "code",
   "execution_count": 13,
   "id": "3cc39fcb",
   "metadata": {},
   "outputs": [],
   "source": [
    "class FCN(nn.Module):\n",
    "    ##Neural Network\n",
    "    def __init__(self,layers):\n",
    "        super().__init__() #call __init__ from parent class \n",
    "        'activation function'\n",
    "        self.activation = nn.Tanh()\n",
    "        'loss function'\n",
    "        self.loss_function = nn.MSELoss(reduction ='mean')\n",
    "        'Initialise neural network as a list using nn.Modulelist'  \n",
    "        self.linears = nn.ModuleList([nn.Linear(layers[i], layers[i+1]) for i in range(len(layers)-1)]) \n",
    "        self.iter = 0\n",
    "        'Xavier Normal Initialization'\n",
    "        # std = gain * sqrt(2/(input_dim+output_dim))\n",
    "        for i in range(len(layers)-1):\n",
    "            \n",
    "            # weights from a normal distribution with \n",
    "            # Recommended gain value for tanh = 5/3?\n",
    "            nn.init.xavier_normal_(self.linears[i].weight.data, gain=1.0)\n",
    "            \n",
    "            # set biases to zero\n",
    "            nn.init.zeros_(self.linears[i].bias.data)   \n",
    "    'foward pass'\n",
    "    def forward(self,x):\n",
    "        if torch.is_tensor(x) != True:         \n",
    "            x = torch.from_numpy(x)                \n",
    "        a = x.float()\n",
    "        for i in range(len(layers)-2):  \n",
    "            z = self.linears[i](a)              \n",
    "            a = self.activation(z)    \n",
    "        a = self.linears[-1](a)\n",
    "        return a\n",
    "    'Loss Functions'\n",
    "    #Loss BC\n",
    "    def lossBC(self,x_BC):\n",
    "      loss_BC=self.loss_function(self.forward(x_BC),f_BC(x_BC))\n",
    "      return loss_BC\n",
    "    #Loss PDE\n",
    "    def lossPDE(self,x_PDE):\n",
    "      g=x_PDE.clone()\n",
    "      g.requires_grad=True #Enable differentiation\n",
    "      f=self.forward(g)\n",
    "      f_x=autograd.grad(f,g,torch.ones([x_PDE.shape[0],1]).to(device),retain_graph=True, create_graph=True)[0]\n",
    "      loss_PDE=self.loss_function(f_x,PDE(g))\n",
    "      return loss_PDE\n",
    "      \n",
    "    def loss(self,x_BC,x_PDE):\n",
    "      loss_bc=self.lossBC(x_BC)\n",
    "      loss_pde=self.lossPDE(x_PDE)\n",
    "      return loss_bc+loss_pde\n",
    "\n",
    "    def closure(self):\n",
    "        \n",
    "        optimizer.zero_grad()\n",
    "        \n",
    "        loss = self.lossNN(x_train, y_train)\n",
    "        \n",
    "        loss.backward()\n",
    "                \n",
    "        self.iter += 1\n",
    "        \n",
    "        if self.iter % 100 == 0:\n",
    "        \n",
    "            print(loss)\n",
    "\n",
    "        return loss"
   ]
  },
  {
   "cell_type": "markdown",
   "id": "cd505ac2",
   "metadata": {},
   "source": [
    "# Generate data"
   ]
  },
  {
   "cell_type": "code",
   "execution_count": 14,
   "id": "5abe150d",
   "metadata": {},
   "outputs": [
    {
     "name": "stdout",
     "output_type": "stream",
     "text": [
      "torch.Size([500, 1]) torch.Size([500, 1])\n"
     ]
    }
   ],
   "source": [
    "# get the analytical solution over the full domain\n",
    "x = torch.linspace(min,max,total_points).view(-1,1) #prepare to NN\n",
    "y = f_BC(x)\n",
    "print(x.shape, y.shape)"
   ]
  },
  {
   "cell_type": "code",
   "execution_count": 15,
   "id": "6cb0a387",
   "metadata": {},
   "outputs": [
    {
     "data": {
      "text/plain": [
       "<matplotlib.legend.Legend at 0x1c2957bee80>"
      ]
     },
     "execution_count": 15,
     "metadata": {},
     "output_type": "execute_result"
    },
    {
     "data": {
      "image/png": "[encoded data removed]",
      "text/plain": [
       "<Figure size 432x288 with 1 Axes>"
      ]
     },
     "metadata": {
      "needs_background": "light"
     },
     "output_type": "display_data"
    }
   ],
   "source": [
    "fig, ax1 = plt.subplots()\n",
    "ax1.plot(x.detach().numpy(),y.detach().numpy(),color='blue',label='Real_Train')\n",
    "#ax1.plot(x_train.detach().numpy(),yh.detach().numpy(),color='red',label='Pred_Train')\n",
    "ax1.set_xlabel('x',color='black')\n",
    "ax1.set_ylabel('f(x)',color='black')\n",
    "ax1.tick_params(axis='y', color='black')\n",
    "ax1.legend(loc = 'upper left')"
   ]
  },
  {
   "cell_type": "code",
   "execution_count": 16,
   "id": "9b0792a6",
   "metadata": {},
   "outputs": [],
   "source": [
    "\n",
    "#def get_training_data(x):\n",
    "#Nu: Number of training point, # Nf: Number of colloction points\n",
    "# Set Boundary conditions:\n",
    "BC_1=x[0,:]\n",
    "BC_2=x[-1,:]\n",
    "# Total Training points BC1+BC2\n",
    "all_train=torch.vstack([BC_1,BC_2])\n",
    "#Select Nu points\n",
    "idx = np.random.choice(all_train.shape[0], Nu, replace=False) \n",
    "x_BC=all_train[idx]\n",
    "#Select Nf points\n",
    "# Latin Hypercube sampling for collocation points \n",
    "x_PDE = BC_1 + (BC_2-BC_1)*lhs(1,Nf)\n",
    "x_PDE = torch.vstack((x_PDE,x_BC))"
   ]
  },
  {
   "cell_type": "markdown",
   "id": "264a3918",
   "metadata": {},
   "source": [
    "# Train Neural Network"
   ]
  },
  {
   "cell_type": "code",
   "execution_count": 17,
   "id": "5c17e457",
   "metadata": {},
   "outputs": [
    {
     "name": "stdout",
     "output_type": "stream",
     "text": [
      "FCN(\n",
      "  (activation): Tanh()\n",
      "  (loss_function): MSELoss()\n",
      "  (linears): ModuleList(\n",
      "    (0): Linear(in_features=1, out_features=50, bias=True)\n",
      "    (1): Linear(in_features=50, out_features=50, bias=True)\n",
      "    (2): Linear(in_features=50, out_features=20, bias=True)\n",
      "    (3): Linear(in_features=20, out_features=50, bias=True)\n",
      "    (4): Linear(in_features=50, out_features=50, bias=True)\n",
      "    (5): Linear(in_features=50, out_features=1, bias=True)\n",
      "  )\n",
      ")\n"
     ]
    }
   ],
   "source": [
    "#Store tensors to GPU\n",
    "torch.manual_seed(123)\n",
    "x_PDE=x_PDE.float().to(device)\n",
    "x_BC=x_BC.to(device)\n",
    "#Create Model\n",
    "model = FCN(layers)\n",
    "print(model)\n",
    "model.to(device)\n",
    "params = list(model.parameters())\n",
    "optimizer = torch.optim.Adam(model.parameters(),lr=lr,amsgrad=False)"
   ]
  },
  {
   "cell_type": "code",
   "execution_count": 19,
   "id": "1f6cbb43",
   "metadata": {
    "scrolled": true
   },
   "outputs": [
    {
     "name": "stdout",
     "output_type": "stream",
     "text": [
      "tensor(1.5131, device='cuda:0', grad_fn=<AddBackward0>)\n",
      "tensor(0.0001, device='cuda:0', grad_fn=<AddBackward0>)\n",
      "tensor(8.4537e-05, device='cuda:0', grad_fn=<AddBackward0>)\n",
      "tensor(7.5694e-05, device='cuda:0', grad_fn=<AddBackward0>)\n",
      "tensor(0.0001, device='cuda:0', grad_fn=<AddBackward0>)\n",
      "tensor(0.0127, device='cuda:0', grad_fn=<AddBackward0>)\n",
      "tensor(4.9699e-05, device='cuda:0', grad_fn=<AddBackward0>)\n",
      "tensor(3.8355e-05, device='cuda:0', grad_fn=<AddBackward0>)\n",
      "tensor(2.8007e-05, device='cuda:0', grad_fn=<AddBackward0>)\n",
      "tensor(2.0519e-05, device='cuda:0', grad_fn=<AddBackward0>)\n",
      "All calculating time :  -82.46499943733215\n"
     ]
    }
   ],
   "source": [
    "start_time = time()\n",
    "for i in range(steps):\n",
    "    yh = model(x_PDE)\n",
    "    loss = model.loss(x_PDE,x_BC)# use mean squared error\n",
    "    optimizer.zero_grad()\n",
    "    loss.backward()\n",
    "    optimizer.step()\n",
    "    if i%(steps/10)==0:\n",
    "      print(loss)\n",
    "\n",
    "print('All calculating time : ', time() - start_time)"
   ]
  },
  {
   "cell_type": "markdown",
   "id": "51f497c6",
   "metadata": {},
   "source": [
    "### Plots"
   ]
  },
  {
   "cell_type": "code",
   "execution_count": 20,
   "id": "38c24e99",
   "metadata": {},
   "outputs": [
    {
     "name": "stdout",
     "output_type": "stream",
     "text": [
      "tensor(9.5340e-05, device='cuda:0', grad_fn=<MseLossBackward0>)\n"
     ]
    }
   ],
   "source": [
    "# Function\n",
    "yh=model(x.to(device))\n",
    "y=f_BC(x)\n",
    "#Error\n",
    "print(model.lossBC(x.to(device)))"
   ]
  },
  {
   "cell_type": "code",
   "execution_count": 21,
   "id": "1cd90aa3",
   "metadata": {},
   "outputs": [],
   "source": [
    "# Derivative\n",
    "g=x.to(device)\n",
    "g=g.clone()\n",
    "g.requires_grad=True #Enable differentiation\n",
    "f=model(g)\n",
    "f_x=autograd.grad(f,g,torch.ones([g.shape[0],1]).to(device),retain_graph=True, create_graph=True)[0]"
   ]
  },
  {
   "cell_type": "code",
   "execution_count": 22,
   "id": "1179d8ad",
   "metadata": {},
   "outputs": [],
   "source": [
    "# Detach from GPU\n",
    "y_plot=y.detach().numpy()\n",
    "yh_plot=yh.detach().cpu().numpy()\n",
    "f_x_plot=f_x.detach().cpu().numpy()"
   ]
  },
  {
   "cell_type": "code",
   "execution_count": 23,
   "id": "77b46308",
   "metadata": {},
   "outputs": [
    {
     "data": {
      "text/plain": [
       "<matplotlib.legend.Legend at 0x1c30bc4dcd0>"
      ]
     },
     "execution_count": 23,
     "metadata": {},
     "output_type": "execute_result"
    },
    {
     "data": {
      "image/png": "[encoded data removed]",
      "text/plain": [
       "<Figure size 432x288 with 1 Axes>"
      ]
     },
     "metadata": {
      "needs_background": "light"
     },
     "output_type": "display_data"
    }
   ],
   "source": [
    "# Plot\n",
    "fig, ax1 = plt.subplots()\n",
    "ax1.plot(x,y_plot,color='blue',label='Real')\n",
    "ax1.plot(x,yh_plot,color='red',label='Predicted')\n",
    "ax1.plot(x,f_x_plot,color='green',label='Derivative')\n",
    "ax1.set_xlabel('x',color='black')\n",
    "ax1.set_ylabel('f(x)',color='black')\n",
    "ax1.tick_params(axis='y', color='black')\n",
    "ax1.legend(loc = 'upper left')"
   ]
  },
  {
   "cell_type": "code",
   "execution_count": 24,
   "id": "0b461387",
   "metadata": {},
   "outputs": [
    {
     "data": {
      "image/png": "[encoded data removed]",
      "text/plain": [
       "<Figure size 432x288 with 1 Axes>"
      ]
     },
     "metadata": {
      "needs_background": "light"
     },
     "output_type": "display_data"
    }
   ],
   "source": [
    "diff = abs(yh_plot - y_plot)\n",
    "plt.plot(x, diff, '--')\n",
    "plt.xlabel('x')\n",
    "plt.ylabel('Difference')\n",
    "plt.show()"
   ]
  },
  {
   "cell_type": "code",
   "execution_count": null,
   "id": "dbabeb52",
   "metadata": {},
   "outputs": [],
   "source": []
  }
 ],
 "metadata": {
  "kernelspec": {
   "display_name": "Python 3 (ipykernel)",
   "language": "python",
   "name": "python3"
  },
  "language_info": {
   "codemirror_mode": {
    "name": "ipython",
    "version": 3
   },
   "file_extension": ".py",
   "mimetype": "text/x-python",
   "name": "python",
   "nbconvert_exporter": "python",
   "pygments_lexer": "ipython3",
   "version": "3.9.12"
  }
 },
 "nbformat": 4,
 "nbformat_minor": 5
}
