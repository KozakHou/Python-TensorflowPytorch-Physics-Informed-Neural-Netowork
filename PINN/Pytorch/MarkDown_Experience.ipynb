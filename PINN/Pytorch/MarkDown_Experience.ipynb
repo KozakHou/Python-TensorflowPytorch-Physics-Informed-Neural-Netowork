{
 "cells": [
  {
   "cell_type": "raw",
   "id": "7378378c",
   "metadata": {},
   "source": [
    "$u_t=\\frac{\\partial u}{\\partial t}$"
   ]
  },
  {
   "cell_type": "markdown",
   "id": "30bf6e1a",
   "metadata": {},
   "source": [
    "$u_t=\\frac{\\partial u}{\\partial t}$"
   ]
  },
  {
   "cell_type": "raw",
   "id": "9c2d7f7e",
   "metadata": {},
   "source": [
    "$$u_t=\\frac{\\partial u}{\\partial t}$$"
   ]
  },
  {
   "cell_type": "markdown",
   "id": "dac34b9c",
   "metadata": {},
   "source": [
    "$$u_t = \\frac{\\partial x}{\\partial s}$$\n",
    "\n",
    "----\n"
   ]
  },
  {
   "cell_type": "raw",
   "id": "d743be6e",
   "metadata": {},
   "source": [
    "**Burgers' Equation**\n",
    "\n",
    "$$\\frac{\\partial u}{\\partial t}+ u\\frac{\\partial u}{\\partial x}=\\nu\\frac{\\partial^2 u}{\\partial x^2} $$\n",
    "\n",
    "$$x\\in[-1,1]$$\n",
    "$$t\\in[0,1]$$"
   ]
  },
  {
   "cell_type": "markdown",
   "id": "a1cb0f26",
   "metadata": {},
   "source": [
    "**Burgers' Equation**\n",
    "\n",
    "$$\\frac{\\partial u}{\\partial t} + u\\frac{\\partial u}{\\partial x} = \\nu\\frac{\\partial^2 u}{\\partial x^2} $$\n",
    "\n",
    "$$x\\in[-1, 1]$$\n",
    "$$t\\in[0, 1]$$"
   ]
  },
  {
   "cell_type": "raw",
   "id": "3d4fd711",
   "metadata": {},
   "source": [
    "\n",
    "$$NN(X)=W_n\\sigma_{n-1}(W_{n-1}\\sigma_{n-2}(...(W_2(W_1X+b_1)+b_2)+..)+b_{n-1})+b_n$$\n"
   ]
  },
  {
   "cell_type": "markdown",
   "id": "aee8416e",
   "metadata": {},
   "source": [
    "$$NN(X) = W_n\\sigma_{n-1}(W_{n-1}\\sigma_{n-2}(...(W_2(W_1X+b_1)+b_2)+..)+b_{n-1})+b_n$$"
   ]
  },
  {
   "cell_type": "markdown",
   "id": "f6833d16",
   "metadata": {},
   "source": [
    "$$\\frac{\\partial u}{\\partial t}$$"
   ]
  },
  {
   "cell_type": "code",
   "execution_count": null,
   "id": "cf9ef85e",
   "metadata": {},
   "outputs": [],
   "source": []
  }
 ],
 "metadata": {
  "kernelspec": {
   "display_name": "Python 3 (ipykernel)",
   "language": "python",
   "name": "python3"
  },
  "language_info": {
   "codemirror_mode": {
    "name": "ipython",
    "version": 3
   },
   "file_extension": ".py",
   "mimetype": "text/x-python",
   "name": "python",
   "nbconvert_exporter": "python",
   "pygments_lexer": "ipython3",
   "version": "3.8.13"
  }
 },
 "nbformat": 4,
 "nbformat_minor": 5
}
